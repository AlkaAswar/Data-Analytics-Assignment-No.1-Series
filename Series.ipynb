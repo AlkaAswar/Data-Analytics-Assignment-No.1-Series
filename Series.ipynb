{
 "cells": [
  {
   "cell_type": "markdown",
   "id": "df71d267",
   "metadata": {},
   "source": [
    "1. Write a Python program to add, subtract, multiple and divide two Pandas Series.\n",
    "\n",
    "Sample Series: [2, 4, 6, 8, 10], [1, 3, 5, 7, 9]"
   ]
  },
  {
   "cell_type": "code",
   "execution_count": 1,
   "id": "d0360d47",
   "metadata": {},
   "outputs": [
    {
     "name": "stdout",
     "output_type": "stream",
     "text": [
      "Add two Series:\n",
      "0     3\n",
      "1     7\n",
      "2    11\n",
      "3    15\n",
      "4    19\n",
      "dtype: int64\n",
      "\n",
      "\n",
      "Subtract two Series:\n",
      "0    1\n",
      "1    1\n",
      "2    1\n",
      "3    1\n",
      "4    1\n",
      "dtype: int64\n",
      "\n",
      "\n",
      "Multiply two Series:\n",
      "0     2\n",
      "1    12\n",
      "2    30\n",
      "3    56\n",
      "4    90\n",
      "dtype: int64\n",
      "\n",
      "\n",
      "Divide Series1 by Series2:\n",
      "0    2.000000\n",
      "1    1.333333\n",
      "2    1.200000\n",
      "3    1.142857\n",
      "4    1.111111\n",
      "dtype: float64\n"
     ]
    }
   ],
   "source": [
    "import pandas as pd\n",
    "p1 = pd.Series([2, 4, 6, 8, 10])\n",
    "p2 = pd.Series([1, 3, 5, 7, 9])\n",
    "Add = p1 + p2\n",
    "print(\"Add two Series:\")\n",
    "print(Add)\n",
    "print('\\n')\n",
    "\n",
    "print(\"Subtract two Series:\")\n",
    "Sub = p1 - p2\n",
    "print(Sub)\n",
    "print('\\n')\n",
    "\n",
    "print(\"Multiply two Series:\")\n",
    "Mul = p1 * p2\n",
    "print(Mul)\n",
    "print('\\n')\n",
    "\n",
    "print(\"Divide Series1 by Series2:\")\n",
    "Div = p1 / p2\n",
    "print(Div)"
   ]
  },
  {
   "cell_type": "code",
   "execution_count": null,
   "id": "25f62d8f",
   "metadata": {},
   "outputs": [],
   "source": []
  }
 ],
 "metadata": {
  "kernelspec": {
   "display_name": "Python 3 (ipykernel)",
   "language": "python",
   "name": "python3"
  },
  "language_info": {
   "codemirror_mode": {
    "name": "ipython",
    "version": 3
   },
   "file_extension": ".py",
   "mimetype": "text/x-python",
   "name": "python",
   "nbconvert_exporter": "python",
   "pygments_lexer": "ipython3",
   "version": "3.9.7"
  }
 },
 "nbformat": 4,
 "nbformat_minor": 5
}
